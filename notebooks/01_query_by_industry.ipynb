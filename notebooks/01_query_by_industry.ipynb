{
 "cells": [
  {
   "cell_type": "code",
   "execution_count": 13,
   "metadata": {},
   "outputs": [
    {
     "name": "stdout",
     "output_type": "stream",
     "text": [
      "The autoreload extension is already loaded. To reload it, use:\n",
      "  %reload_ext autoreload\n"
     ]
    }
   ],
   "source": [
    "%load_ext autoreload\n",
    "%autoreload 2\n",
    "\n",
    "from carbon.estimate import estimate_carbon_footprint, estimation_to_string"
   ]
  },
  {
   "cell_type": "code",
   "execution_count": 22,
   "metadata": {},
   "outputs": [
    {
     "name": "stdout",
     "output_type": "stream",
     "text": [
      "The estimated carbon footprint of a hotel night stay in Chile is 51.35 kg CO2e.\n",
      "This estimate was calculated using data from SWC MRIO Dataset, which provides information about the carbon footprint per USD (0.51) for the Accommodation industry in Chile.\n",
      "The total cost of the product was estimated by gpt-4o-2024-08-06, amounting to 100.00 USD.\n",
      "The reasoning behind this estimate is as follows: The cost of a hotel night stay can vary significantly based on the location, star rating, and amenities offered by the hotel. In Chile, a mid-range hotel might cost around $100 per night, while luxury hotels can charge upwards of $200 or more per night. Budget accommodations might be available for as low as $50 per night.\n"
     ]
    }
   ],
   "source": [
    "product = \"a hotel night stay\"\n",
    "country = \"Chile\"\n",
    "model = \"gpt-4o-2024-08-06\"\n",
    "estimate = estimate_carbon_footprint(product, country, model)\n",
    "print(estimation_to_string(estimate))\n"
   ]
  },
  {
   "cell_type": "code",
   "execution_count": 23,
   "metadata": {},
   "outputs": [
    {
     "name": "stdout",
     "output_type": "stream",
     "text": [
      "The estimated carbon footprint of a hotel night stay in United States is 70.82 kg CO2e.\n",
      "This estimate was calculated using data from SWC MRIO Dataset, which provides information about the carbon footprint per USD (0.47) for the Accommodation industry in United States.\n",
      "The total cost of the product was estimated by gpt-4o-2024-08-06, amounting to 150.00 USD.\n",
      "The reasoning behind this estimate is as follows: The cost of a hotel night stay can vary widely depending on the location, star rating, and amenities offered by the hotel. In the United States, the average cost for a mid-range hotel is approximately $100 to $200 per night. Luxury hotels can cost significantly more, often exceeding $300 per night. Budget accommodations may be available for under $100 per night.\n"
     ]
    }
   ],
   "source": [
    "product = \"a hotel night stay\"\n",
    "country = \"United States\"\n",
    "model = \"gpt-4o-2024-08-06\"\n",
    "estimate = estimate_carbon_footprint(product, country, model)\n",
    "print(estimation_to_string(estimate))"
   ]
  },
  {
   "cell_type": "code",
   "execution_count": 24,
   "metadata": {},
   "outputs": [
    {
     "name": "stdout",
     "output_type": "stream",
     "text": [
      "The estimated carbon footprint of a piscola in Chile is 3.23 kg CO2e.\n",
      "This estimate was calculated using data from SWC MRIO Dataset, which provides information about the carbon footprint per USD (0.46) for the Manufacture of alcoholic beverages  & Tobacco Products industry in Chile.\n",
      "The total cost of the product was estimated by gpt-4o-2024-08-06, amounting to 7.00 USD.\n",
      "The reasoning behind this estimate is as follows: The cost of a piscola, which is a popular cocktail in Chile made with pisco and cola, can vary depending on the brand of pisco and cola used, as well as the location where it is purchased. On average, a bottle of pisco can cost around $10 to $20 USD, and a bottle of cola is about $1 to $2 USD. If purchased at a bar or restaurant, the price of a piscola can range from $5 to $10 USD per glass.\n"
     ]
    }
   ],
   "source": [
    "product = \"a piscola\"\n",
    "country = \"Chile\"\n",
    "model = \"gpt-4o-2024-08-06\"\n",
    "estimate = estimate_carbon_footprint(product, country, model)\n",
    "print(estimation_to_string(estimate))"
   ]
  },
  {
   "cell_type": "code",
   "execution_count": 25,
   "metadata": {},
   "outputs": [
    {
     "name": "stdout",
     "output_type": "stream",
     "text": [
      "The estimated carbon footprint of a piscola in France is 3.82 kg CO2e.\n",
      "This estimate was calculated using data from SWC MRIO Dataset, which provides information about the carbon footprint per USD (0.38) for the Manufacture of alcoholic beverages  & Tobacco Products industry in France.\n",
      "The total cost of the product was estimated by gpt-4o-2024-08-06, amounting to 10.00 USD.\n",
      "The reasoning behind this estimate is as follows: The cost of a Piscola, which is a cocktail made with pisco and cola, primarily depends on the cost of the ingredients. Pisco is a type of brandy produced in wine-making regions of Peru and Chile, and its price can vary based on the brand and quality. Cola is relatively inexpensive. In France, the cost of imported pisco can be higher due to import taxes and shipping costs. Additionally, the cost of serving a Piscola in a bar or restaurant would include overheads such as labor, rent, and other operational expenses.\n"
     ]
    }
   ],
   "source": [
    "product = \"a piscola\"\n",
    "country = \"France\"\n",
    "model = \"gpt-4o-2024-08-06\"\n",
    "estimate = estimate_carbon_footprint(product, country, model)\n",
    "print(estimation_to_string(estimate))"
   ]
  }
 ],
 "metadata": {
  "kernelspec": {
   "display_name": ".venv",
   "language": "python",
   "name": "python3"
  },
  "language_info": {
   "codemirror_mode": {
    "name": "ipython",
    "version": 3
   },
   "file_extension": ".py",
   "mimetype": "text/x-python",
   "name": "python",
   "nbconvert_exporter": "python",
   "pygments_lexer": "ipython3",
   "version": "3.12.1"
  }
 },
 "nbformat": 4,
 "nbformat_minor": 2
}
