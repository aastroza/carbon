{
 "cells": [
  {
   "cell_type": "code",
   "execution_count": null,
   "metadata": {},
   "outputs": [],
   "source": [
    "!pip install openai"
   ]
  },
  {
   "cell_type": "code",
   "execution_count": null,
   "metadata": {},
   "outputs": [],
   "source": [
    "OPENAI_API_KEY=\"\"\n",
    "HF_TOKEN=\"\""
   ]
  },
  {
   "cell_type": "code",
   "execution_count": null,
   "metadata": {},
   "outputs": [],
   "source": [
    "from sentence_transformers import SentenceTransformer\n",
    "from sklearn.metrics.pairwise import cosine_similarity\n",
    "import numpy as np\n",
    "from sklearn.metrics import confusion_matrix\n",
    "import seaborn as sns\n",
    "import matplotlib.pyplot as plt\n",
    "from sklearn.metrics import f1_score, precision_score, recall_score\n",
    "import io\n",
    "import pandas as pd\n",
    "import pandas as pd\n",
    "\n",
    "import matplotlib.pyplot as plt"
   ]
  },
  {
   "cell_type": "code",
   "execution_count": null,
   "metadata": {},
   "outputs": [],
   "source": [
    "df = pd.read_excel('product_cleanedv7.xlsx')\n",
    "\n"
   ]
  },
  {
   "cell_type": "code",
   "execution_count": null,
   "metadata": {},
   "outputs": [],
   "source": [
    "# setear api key como variable de entorno\n",
    "import os\n",
    "import openai\n",
    "from openai import OpenAI \n",
    "\n",
    "openai.api_key = os.getenv(\"OPENAI_API_KEY\")\n",
    "os.environ[\"OPENAI_API_KEY\"] = OPENAI_API_KEY\n",
    "## Set the API key and model name\n",
    "MODEL=\"gpt-4o-mini\"\n",
    "client = OpenAI(api_key=os.environ.get(\"OPENAI_API_KEY\", \"<your OpenAI API key if not set as an env var>\"))\n"
   ]
  },
  {
   "cell_type": "code",
   "execution_count": null,
   "metadata": {},
   "outputs": [],
   "source": [
    "# prompt: hazme una funcion que ocupe gpt 4 o para traducir un texto\n",
    "\n",
    "def traductor_en_es(texto):\n",
    "  completion = client.chat.completions.create(\n",
    "    model=MODEL,\n",
    "    messages = [\n",
    "    {\"role\": \"system\", \"content\": \"You are a helpful assistant that translates product descriptions from English to Spanish and extracts the main product name.\"},\n",
    "    \n",
    "    # Few-shot example 1\n",
    "    {\"role\": \"user\", \"content\": \"Translate the following product description to Spanish and extract the main product name:\\n\\n'Delicious and crunchy, our Honey Roasted Almonds are perfect for a healthy snack or a salad topping.'\"},\n",
    "    {\"role\": \"assistant\", \"content\": \"Almendras Tostadas con Miel'\"},\n",
    "\n",
    "    # Few-shot example 2\n",
    "    {\"role\": \"user\", \"content\": \"Translate the following product description to Spanish and extract the main product name:\\n\\n'Smooth and rich, our Organic Dark Chocolate is made from the finest cocoa beans and is perfect for chocolate lovers.'\"},\n",
    "    {\"role\": \"assistant\", \"content\": \"Chocolate Negro Orgánico\"},\n",
    "\n",
    "    # Few-shot example 2\n",
    "    {\"role\": \"user\", \"content\": \"Translate the following product description to Spanish and extract the main product name:\\n\\n'regular straight 505 jeans steel waterless\"},\n",
    "    {\"role\": \"assistant\", \"content\": \"Jeans\"},\n",
    "\n",
    "    # User's actual prompt\n",
    "    {\"role\": \"user\", \"content\": f\"Translate the following product description to Spanish and extract the main product name:\\n\\n'{texto}'\"}\n",
    "]\n",
    "  )\n",
    "  print(completion.choices[0].message.content)\n",
    "  return completion.choices[0].message.content\n",
    "\n",
    "df[\"product_es\"] = df[\"product\"].apply(traductor_en_es)\n",
    "\n"
   ]
  },
  {
   "cell_type": "code",
   "execution_count": null,
   "metadata": {},
   "outputs": [],
   "source": [
    "\n",
    "df.to_excel(\"output.xlsx\", index=False)\n"
   ]
  },
  {
   "cell_type": "code",
   "execution_count": null,
   "metadata": {},
   "outputs": [],
   "source": [
    "# prompt: hazme una funcion que ocupe gpt 4 o para traducir un texto\n",
    "\n",
    "def categorization(texto):\n",
    "  completion = client.chat.completions.create(\n",
    "    model=MODEL,\n",
    "    messages = [\n",
    "    {\"role\": \"system\", \"content\": \"You are a helpful assistant that categorizes products and services into predefined categories: comida, transporte, servicios, tecnología, vida cotidiana, otros.\"},\n",
    "    \n",
    "    # Few-shot example 1\n",
    "    {\"role\": \"user\", \"content\": \"Carne de res\"},\n",
    "    {\"role\": \"assistant\", \"content\": \"comida\"},\n",
    "    \n",
    "    # Few-shot example 2\n",
    "    {\"role\": \"user\", \"content\": \"Un viaje en avión de 1 hora\"},\n",
    "    {\"role\": \"assistant\", \"content\": \"transporte\"},\n",
    "\n",
    "    # Few-shot example 3\n",
    "    {\"role\": \"user\", \"content\": \"Una sesión de spa\"},\n",
    "    {\"role\": \"assistant\", \"content\": \"servicios\"},\n",
    "\n",
    "    # Few-shot example 4\n",
    "    {\"role\": \"user\", \"content\": \"Laptop\"},\n",
    "    {\"role\": \"assistant\", \"content\": \"tecnología\"},\n",
    "\n",
    "    # Few-shot example 5\n",
    "    {\"role\": \"user\", \"content\": \"Una lavada de ropa en lavadora\"},\n",
    "    {\"role\": \"assistant\", \"content\": \"vida cotidiana\"},\n",
    "\n",
    "    # Few-shot example 6\n",
    "    {\"role\": \"user\", \"content\": \"Un evento deportivo en vivo\"},\n",
    "    {\"role\": \"assistant\", \"content\": \"otros\"},\n",
    "\n",
    "    # User's actual prompt\n",
    "    {\"role\": \"user\", \"content\": f\"Categorize the following product/service into this set of categories: comida, transporte, servicios, tecnología, vida cotidiana, otros.\\n\\n'{texto}'\"}\n",
    "]\n",
    "\n",
    "  )\n",
    "  print(completion.choices[0].message.content)\n",
    "  return completion.choices[0].message.content\n",
    "\n",
    "df[\"category\"] = df[\"product_es\"].apply(traductor_en_es)\n",
    "\n"
   ]
  }
 ],
 "metadata": {
  "language_info": {
   "name": "python"
  }
 },
 "nbformat": 4,
 "nbformat_minor": 2
}
