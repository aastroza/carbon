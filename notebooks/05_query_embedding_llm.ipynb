{
 "cells": [
  {
   "cell_type": "code",
   "execution_count": 1,
   "metadata": {},
   "outputs": [
    {
     "name": "stderr",
     "output_type": "stream",
     "text": [
      "c:\\Python312\\Lib\\site-packages\\tqdm\\auto.py:21: TqdmWarning: IProgress not found. Please update jupyter and ipywidgets. See https://ipywidgets.readthedocs.io/en/stable/user_install.html\n",
      "  from .autonotebook import tqdm as notebook_tqdm\n"
     ]
    }
   ],
   "source": [
    "_#from sentence_transformers import SentenceTransformer\n",
    "from sklearn.metrics.pairwise import cosine_similarity\n",
    "import numpy as np\n",
    "from sklearn.metrics import confusion_matrix\n",
    "import seaborn as sns\n",
    "import matplotlib.pyplot as plt\n",
    "from sklearn.metrics import f1_score, precision_score, recall_score\n",
    "import io\n",
    "import pandas as pd\n",
    "import pandas as pd\n",
    "import matplotlib.pyplot as plt"
   ]
  },
  {
   "cell_type": "code",
   "execution_count": null,
   "metadata": {},
   "outputs": [],
   "source": [
    "os.environ[\"OPENAI_API_KEY\"] = \"\""
   ]
  },
  {
   "cell_type": "code",
   "execution_count": null,
   "metadata": {},
   "outputs": [],
   "source": [
    "def semantic_similarity_search(query, docs, doc_embeddings, model=\"text-embedding-3-small\",treshold=0.5, top_k=1):\n",
    "  # Calcular el embedding del query\n",
    "  embedding_query = client.doc_embeddings.create(input = [query], model=model).data[0].embedding\n",
    "  # Calcular la similitud de coseno entre los embeddings de los textos y los embeddings de los tópicos\n",
    "  similitudes = cosine_similarity(doc_embeddings, [embedding_query])\n",
    "  similitudes = [similitudes[i][0] for i in range(len(similitudes))]\n",
    "  # guardamos el documento con la mayor similaridad\n",
    "  top_k_indices = np.argsort(similitudes)[-top_k:][::-1]\n",
    "  top_k_textos = [docs[i] for i in top_k_indices]\n",
    "  top_k_similitudes = [similitudes[i] for i in top_k_indices]\n",
    "  if top_k_similitudes[0] >= treshold:\n",
    "    return top_k_textos[0], top_k_similitudes[0]\n",
    "  else:\n",
    "    return None, None\n",
    "\n",
    "\n",
    "def query_response_relation(query, response, model= \"gpt-4o-mini\"):\n",
    "  completion = client.chat.completions.create(\n",
    "    model=model,\n",
    "    messages = [\n",
    "    {\"role\": \"system\", \"content\": \"You are a helpful assistant that determines if two products or services belong to the same thing or if they refer to the same topic.\"},\n",
    "    \n",
    "    # Few-shot example 1\n",
    "    {\"role\": \"user\", \"content\": \"Query: Un lavado de autos\\nResponse: Lavadora\\n\"},\n",
    "    {\"role\": \"assistant\", \"content\": \"no\"},\n",
    "\n",
    "    {\"role\": \"user\", \"content\": \"Query: hamburguesa de queso\\nResponse: hamburguesa de carne\\n\"},\n",
    "    {\"role\": \"assistant\", \"content\": \"yes\"},\n",
    "\n",
    "    # Few-shot example 2\n",
    "    {\"role\": \"user\", \"content\": \"Query: Un electrodoméstico\\nResponse: Lavavajillas\\n\"},\n",
    "    {\"role\": \"assistant\", \"content\": \"yes\"},\n",
    "\n",
    "    # Few-shot example 3\n",
    "    {\"role\": \"user\", \"content\": \"Query: Un viaje en avión de 1 hora\\nResponse: Un viaje en tren de 30 minutos\\n\"},\n",
    "    {\"role\": \"assistant\", \"content\": \"no\"},\n",
    "\n",
    "    # Few-shot example 4\n",
    "    {\"role\": \"user\", \"content\": \"Query: hamburguesa vegana\\nResponse: hamburguesa\\n\"},\n",
    "    {\"role\": \"assistant\", \"content\": \"yes'\"},\n",
    "\n",
    "    # Few-shot example 5\n",
    "    {\"role\": \"user\", \"content\": \"Query: manzana verde\\nResponse: manzana\\n\"},\n",
    "    {\"role\": \"assistant\", \"content\": \"yes\"},\n",
    "\n",
    "    # User's actual prompt\n",
    "    {\"role\": \"user\", \"content\": f\"Query: {query}\\nResponse: {response}\"}\n",
    "]\n",
    "\n",
    "\n",
    "  )\n",
    "  response = completion.choices[0].message.content\n",
    "  if \"yes\" in response:\n",
    "    return True\n",
    "  else:\n",
    "    return False"
   ]
  },
  {
   "cell_type": "code",
   "execution_count": null,
   "metadata": {},
   "outputs": [],
   "source": [
    "# Ejemplo de uso \n",
    "query = \"Un lavado de autos\"\n",
    "\n",
    "def carbon_footprint_search(query):\n",
    "    response, similarity  = semantic_similarity_search(query, prod_docs, prod_embeddings)\n",
    "    if response == None:\n",
    "        response, similarity = #funcion alonso\n",
    "        if response != None:\n",
    "            if query_response_relation(query, response):\n",
    "                return response, similarity\n",
    "    else:\n",
    "        if query_response_relation(query, response):\n",
    "            return response, similarity\n",
    "            \n",
    "    return None, None\n",
    "\n",
    "  \n",
    "    \n"
   ]
  }
 ],
 "metadata": {
  "kernelspec": {
   "display_name": "Python 3",
   "language": "python",
   "name": "python3"
  },
  "language_info": {
   "codemirror_mode": {
    "name": "ipython",
    "version": 3
   },
   "file_extension": ".py",
   "mimetype": "text/x-python",
   "name": "python",
   "nbconvert_exporter": "python",
   "pygments_lexer": "ipython3",
   "version": "3.12.0"
  }
 },
 "nbformat": 4,
 "nbformat_minor": 2
}
